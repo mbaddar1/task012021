{
 "cells": [
  {
   "cell_type": "code",
   "execution_count": null,
   "id": "religious-preservation",
   "metadata": {},
   "outputs": [],
   "source": [
    "# This version of notebook is compact and for directly generating features, modeling and testing"
   ]
  },
  {
   "cell_type": "code",
   "execution_count": null,
   "id": "formal-third",
   "metadata": {},
   "outputs": [],
   "source": [
    "%config Completer.use_jedi = False # to enable auto complete\n",
    "import pandas as pd\n",
    "import logging\n",
    "import seaborn as sns\n",
    "import matplotlib.pyplot as plt\n",
    "import numpy as np"
   ]
  },
  {
   "cell_type": "code",
   "execution_count": null,
   "id": "accomplished-system",
   "metadata": {},
   "outputs": [],
   "source": [
    "logging.basicConfig(level=logging.INFO)\n",
    "logger = logging.getLogger('Main_Churn_Perdictors')"
   ]
  },
  {
   "cell_type": "code",
   "execution_count": null,
   "id": "handmade-click",
   "metadata": {},
   "outputs": [],
   "source": [
    "# data loading\n"
   ]
  },
  {
   "cell_type": "code",
   "execution_count": null,
   "id": "handy-series",
   "metadata": {},
   "outputs": [],
   "source": [
    "# set of Feature generation functions along with their unit testing"
   ]
  },
  {
   "cell_type": "code",
   "execution_count": null,
   "id": "fleet-being",
   "metadata": {},
   "outputs": [],
   "source": [
    "# Feature generation function"
   ]
  },
  {
   "cell_type": "code",
   "execution_count": null,
   "id": "narrow-portrait",
   "metadata": {},
   "outputs": [],
   "source": [
    "# Modeling function"
   ]
  }
 ],
 "metadata": {
  "kernelspec": {
   "display_name": "Python 3",
   "language": "python",
   "name": "python3"
  },
  "language_info": {
   "codemirror_mode": {
    "name": "ipython",
    "version": 3
   },
   "file_extension": ".py",
   "mimetype": "text/x-python",
   "name": "python",
   "nbconvert_exporter": "python",
   "pygments_lexer": "ipython3",
   "version": "3.7.0"
  }
 },
 "nbformat": 4,
 "nbformat_minor": 5
}
