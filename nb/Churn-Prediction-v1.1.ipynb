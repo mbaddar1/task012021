{
 "cells": [
  {
   "cell_type": "code",
   "execution_count": 2,
   "id": "religious-preservation",
   "metadata": {},
   "outputs": [],
   "source": [
    "# This version of notebook is compact and for directly generating features, modeling and testing"
   ]
  },
  {
   "cell_type": "code",
   "execution_count": 3,
   "id": "million-surge",
   "metadata": {},
   "outputs": [],
   "source": [
    "%config Completer.use_jedi = False # to enable auto complete\n",
    "import pandas as pd\n",
    "import logging\n",
    "import seaborn as sns\n",
    "import matplotlib.pyplot as plt\n",
    "import numpy as np"
   ]
  },
  {
   "cell_type": "code",
   "execution_count": 4,
   "id": "innocent-aluminum",
   "metadata": {},
   "outputs": [],
   "source": [
    "logging.basicConfig(level=logging.INFO)\n",
    "logger = logging.getLogger('Main_Churn_Perdictors')"
   ]
  },
  {
   "cell_type": "code",
   "execution_count": 5,
   "id": "subsequent-testament",
   "metadata": {},
   "outputs": [],
   "source": [
    "# data loading\n",
    "orders_df = pd.read_csv('../data/machine_learning_challenge_order_data.csv')\n",
    "labeled_df = pd.read_csv('../data/machine_learning_challenge_labeled_data.csv')"
   ]
  },
  {
   "cell_type": "code",
   "execution_count": 20,
   "id": "floating-injury",
   "metadata": {},
   "outputs": [
    {
     "name": "stderr",
     "output_type": "stream",
     "text": [
      "INFO:Main_Churn_Perdictors:Removing 100000 based on columns X which is\n",
      "                1.0 % of the rows\n",
      "INFO:Main_Churn_Perdictors:Total rows remove = 100000 which is \n",
      "            1.0 % of the rows\n",
      "INFO:Main_Churn_Perdictors:clean fraction = 0.010101010101010102\n"
     ]
    }
   ],
   "source": [
    "# data cleaning\n",
    "# this function is designed to handle the long tailed distributions (heavily found in the data)\n",
    "# hence it makes sense to test it on heavil tailed distributions ()\n",
    "from numpy import random\n",
    "def remove_outliers_quantiles(df,columns,q=0.99):\n",
    "    # this function remove outliers based on quantiles, columns must be numeric\n",
    "    n_rows = df.shape[0]\n",
    "    running_idx = pd.Series(np.repeat(True,n_rows))\n",
    "    for col in columns:\n",
    "        if isinstance(df[col][0],(np.float_,np.int_)):\n",
    "            \n",
    "            val_q = np.quantile(a=df[col],q=q)\n",
    "            idx = df[col]<=val_q\n",
    "            running_idx = np.logical_and(running_idx,idx)\n",
    "\n",
    "            row_to_remove_count = idx.value_counts().sort_values().values[0]\n",
    "            logger.info(f\"\"\"Removing {row_to_remove_count} based on columns {col} which is\n",
    "                {np.round(1.0*row_to_remove_count/n_rows,4)*100} % of the rows\"\"\")\n",
    "        else:\n",
    "            logger.error(f'Cannot remove outliers from column {col} as it is not numeric!')\n",
    "        filterd_df = df.loc[running_idx,:]\n",
    "        \n",
    "    total_rows_removed = running_idx.value_counts().sort_values().values[0]\n",
    "    logger.info(f\"\"\"Total rows remove = {total_rows_removed} which is \n",
    "            {np.round(1.0*total_rows_removed/n_rows,4)*100} % of the rows\"\"\")\n",
    "    return filterd_df\n",
    "\n",
    "def test_remove_outliers_quantiles():\n",
    "    n = 10e6\n",
    "    alpha = 0.01\n",
    "    df = pd.DataFrame({'X':random.exponential(scale=0.1,size=int(n)),'Y': })\n",
    "    \n",
    "    df_processed = remove_outliers_quantiles(df,'X',1-alpha)\n",
    "    n_processed = df_processed.shape[0]\n",
    "    fraction = (n-n_processed) / n_processed\n",
    "    # assert the right amount of data is cleaned\n",
    "    # note because the and condtion in filtering, the lower bound of filerting fraction is alpha\n",
    "    logger.info(f'clean fraction = {fraction}')\n",
    "    assert fraction >= alpha , 'cleaned less than exepcted fraction'\n",
    "test_remove_outliers_quantiles()"
   ]
  },
  {
   "cell_type": "code",
   "execution_count": 6,
   "id": "handy-series",
   "metadata": {},
   "outputs": [],
   "source": [
    "# set of Feature generation functions along with their unit testing"
   ]
  },
  {
   "cell_type": "code",
   "execution_count": 7,
   "id": "fleet-being",
   "metadata": {},
   "outputs": [],
   "source": [
    "# Feature generation function"
   ]
  },
  {
   "cell_type": "code",
   "execution_count": 8,
   "id": "narrow-portrait",
   "metadata": {},
   "outputs": [],
   "source": [
    "# Modeling function"
   ]
  }
 ],
 "metadata": {
  "kernelspec": {
   "display_name": "Python 3",
   "language": "python",
   "name": "python3"
  },
  "language_info": {
   "codemirror_mode": {
    "name": "ipython",
    "version": 3
   },
   "file_extension": ".py",
   "mimetype": "text/x-python",
   "name": "python",
   "nbconvert_exporter": "python",
   "pygments_lexer": "ipython3",
   "version": "3.7.0"
  }
 },
 "nbformat": 4,
 "nbformat_minor": 5
}
