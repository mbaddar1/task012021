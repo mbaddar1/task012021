{
 "cells": [
  {
   "cell_type": "code",
   "execution_count": 1,
   "id": "scheduled-price",
   "metadata": {},
   "outputs": [],
   "source": [
    "%config Completer.use_jedi = False # to enable auto complete"
   ]
  },
  {
   "cell_type": "code",
   "execution_count": 2,
   "id": "common-manhattan",
   "metadata": {},
   "outputs": [],
   "source": [
    "import pandas as pd\n",
    "import logging\n",
    "import seaborn as sns\n",
    "import matplotlib.pyplot as plt\n",
    "import numpy as np"
   ]
  },
  {
   "cell_type": "code",
   "execution_count": 3,
   "id": "chronic-france",
   "metadata": {},
   "outputs": [],
   "source": [
    "logging.basicConfig(level=logging.INFO)\n",
    "logger = logging.getLogger('Main_Churn_Perdictors')"
   ]
  },
  {
   "cell_type": "code",
   "execution_count": 4,
   "id": "criminal-australia",
   "metadata": {},
   "outputs": [],
   "source": [
    "orders_df = pd.read_csv('../data/machine_learning_challenge_order_data.csv')\n",
    "labeled_df = pd.read_csv('../data/machine_learning_challenge_labeled_data.csv')"
   ]
  },
  {
   "cell_type": "code",
   "execution_count": 5,
   "id": "ethical-fitting",
   "metadata": {
    "scrolled": true
   },
   "outputs": [
    {
     "data": {
      "text/html": [
       "<div>\n",
       "<style scoped>\n",
       "    .dataframe tbody tr th:only-of-type {\n",
       "        vertical-align: middle;\n",
       "    }\n",
       "\n",
       "    .dataframe tbody tr th {\n",
       "        vertical-align: top;\n",
       "    }\n",
       "\n",
       "    .dataframe thead th {\n",
       "        text-align: right;\n",
       "    }\n",
       "</style>\n",
       "<table border=\"1\" class=\"dataframe\">\n",
       "  <thead>\n",
       "    <tr style=\"text-align: right;\">\n",
       "      <th></th>\n",
       "      <th>customer_id</th>\n",
       "      <th>order_date</th>\n",
       "      <th>order_hour</th>\n",
       "      <th>customer_order_rank</th>\n",
       "      <th>is_failed</th>\n",
       "      <th>voucher_amount</th>\n",
       "      <th>delivery_fee</th>\n",
       "      <th>amount_paid</th>\n",
       "      <th>restaurant_id</th>\n",
       "      <th>city_id</th>\n",
       "      <th>payment_id</th>\n",
       "      <th>platform_id</th>\n",
       "      <th>transmission_id</th>\n",
       "    </tr>\n",
       "  </thead>\n",
       "  <tbody>\n",
       "    <tr>\n",
       "      <th>0</th>\n",
       "      <td>000097eabfd9</td>\n",
       "      <td>2015-06-20</td>\n",
       "      <td>19</td>\n",
       "      <td>1.0</td>\n",
       "      <td>0</td>\n",
       "      <td>0.0</td>\n",
       "      <td>0.000</td>\n",
       "      <td>11.46960</td>\n",
       "      <td>5803498</td>\n",
       "      <td>20326</td>\n",
       "      <td>1779</td>\n",
       "      <td>30231</td>\n",
       "      <td>4356</td>\n",
       "    </tr>\n",
       "    <tr>\n",
       "      <th>1</th>\n",
       "      <td>0000e2c6d9be</td>\n",
       "      <td>2016-01-29</td>\n",
       "      <td>20</td>\n",
       "      <td>1.0</td>\n",
       "      <td>0</td>\n",
       "      <td>0.0</td>\n",
       "      <td>0.000</td>\n",
       "      <td>9.55800</td>\n",
       "      <td>239303498</td>\n",
       "      <td>76547</td>\n",
       "      <td>1619</td>\n",
       "      <td>30359</td>\n",
       "      <td>4356</td>\n",
       "    </tr>\n",
       "    <tr>\n",
       "      <th>2</th>\n",
       "      <td>000133bb597f</td>\n",
       "      <td>2017-02-26</td>\n",
       "      <td>19</td>\n",
       "      <td>1.0</td>\n",
       "      <td>0</td>\n",
       "      <td>0.0</td>\n",
       "      <td>0.493</td>\n",
       "      <td>5.93658</td>\n",
       "      <td>206463498</td>\n",
       "      <td>33833</td>\n",
       "      <td>1619</td>\n",
       "      <td>30359</td>\n",
       "      <td>4324</td>\n",
       "    </tr>\n",
       "    <tr>\n",
       "      <th>3</th>\n",
       "      <td>00018269939b</td>\n",
       "      <td>2017-02-05</td>\n",
       "      <td>17</td>\n",
       "      <td>1.0</td>\n",
       "      <td>0</td>\n",
       "      <td>0.0</td>\n",
       "      <td>0.493</td>\n",
       "      <td>9.82350</td>\n",
       "      <td>36613498</td>\n",
       "      <td>99315</td>\n",
       "      <td>1619</td>\n",
       "      <td>30359</td>\n",
       "      <td>4356</td>\n",
       "    </tr>\n",
       "    <tr>\n",
       "      <th>4</th>\n",
       "      <td>0001a00468a6</td>\n",
       "      <td>2015-08-04</td>\n",
       "      <td>19</td>\n",
       "      <td>1.0</td>\n",
       "      <td>0</td>\n",
       "      <td>0.0</td>\n",
       "      <td>0.493</td>\n",
       "      <td>5.15070</td>\n",
       "      <td>225853498</td>\n",
       "      <td>16456</td>\n",
       "      <td>1619</td>\n",
       "      <td>29463</td>\n",
       "      <td>4356</td>\n",
       "    </tr>\n",
       "  </tbody>\n",
       "</table>\n",
       "</div>"
      ],
      "text/plain": [
       "    customer_id  order_date  order_hour  customer_order_rank  is_failed  \\\n",
       "0  000097eabfd9  2015-06-20          19                  1.0          0   \n",
       "1  0000e2c6d9be  2016-01-29          20                  1.0          0   \n",
       "2  000133bb597f  2017-02-26          19                  1.0          0   \n",
       "3  00018269939b  2017-02-05          17                  1.0          0   \n",
       "4  0001a00468a6  2015-08-04          19                  1.0          0   \n",
       "\n",
       "   voucher_amount  delivery_fee  amount_paid  restaurant_id  city_id  \\\n",
       "0             0.0         0.000     11.46960        5803498    20326   \n",
       "1             0.0         0.000      9.55800      239303498    76547   \n",
       "2             0.0         0.493      5.93658      206463498    33833   \n",
       "3             0.0         0.493      9.82350       36613498    99315   \n",
       "4             0.0         0.493      5.15070      225853498    16456   \n",
       "\n",
       "   payment_id  platform_id  transmission_id  \n",
       "0        1779        30231             4356  \n",
       "1        1619        30359             4356  \n",
       "2        1619        30359             4324  \n",
       "3        1619        30359             4356  \n",
       "4        1619        29463             4356  "
      ]
     },
     "execution_count": 5,
     "metadata": {},
     "output_type": "execute_result"
    }
   ],
   "source": [
    "orders_df.head()"
   ]
  },
  {
   "cell_type": "code",
   "execution_count": 6,
   "id": "rational-swift",
   "metadata": {
    "scrolled": false
   },
   "outputs": [
    {
     "data": {
      "text/html": [
       "<div>\n",
       "<style scoped>\n",
       "    .dataframe tbody tr th:only-of-type {\n",
       "        vertical-align: middle;\n",
       "    }\n",
       "\n",
       "    .dataframe tbody tr th {\n",
       "        vertical-align: top;\n",
       "    }\n",
       "\n",
       "    .dataframe thead th {\n",
       "        text-align: right;\n",
       "    }\n",
       "</style>\n",
       "<table border=\"1\" class=\"dataframe\">\n",
       "  <thead>\n",
       "    <tr style=\"text-align: right;\">\n",
       "      <th></th>\n",
       "      <th>customer_id</th>\n",
       "      <th>is_returning_customer</th>\n",
       "    </tr>\n",
       "  </thead>\n",
       "  <tbody>\n",
       "    <tr>\n",
       "      <th>0</th>\n",
       "      <td>000097eabfd9</td>\n",
       "      <td>0</td>\n",
       "    </tr>\n",
       "    <tr>\n",
       "      <th>1</th>\n",
       "      <td>0000e2c6d9be</td>\n",
       "      <td>0</td>\n",
       "    </tr>\n",
       "    <tr>\n",
       "      <th>2</th>\n",
       "      <td>000133bb597f</td>\n",
       "      <td>1</td>\n",
       "    </tr>\n",
       "    <tr>\n",
       "      <th>3</th>\n",
       "      <td>00018269939b</td>\n",
       "      <td>0</td>\n",
       "    </tr>\n",
       "    <tr>\n",
       "      <th>4</th>\n",
       "      <td>0001a00468a6</td>\n",
       "      <td>0</td>\n",
       "    </tr>\n",
       "  </tbody>\n",
       "</table>\n",
       "</div>"
      ],
      "text/plain": [
       "    customer_id  is_returning_customer\n",
       "0  000097eabfd9                      0\n",
       "1  0000e2c6d9be                      0\n",
       "2  000133bb597f                      1\n",
       "3  00018269939b                      0\n",
       "4  0001a00468a6                      0"
      ]
     },
     "execution_count": 6,
     "metadata": {},
     "output_type": "execute_result"
    }
   ],
   "source": [
    "labeled_df.head()"
   ]
  },
  {
   "cell_type": "markdown",
   "id": "allied-sessions",
   "metadata": {},
   "source": [
    "# 1) Exploratory Data analysis:"
   ]
  },
  {
   "cell_type": "markdown",
   "id": "institutional-boston",
   "metadata": {},
   "source": [
    "### Overall data analysis"
   ]
  },
  {
   "cell_type": "code",
   "execution_count": 7,
   "id": "permanent-tactics",
   "metadata": {},
   "outputs": [],
   "source": [
    "#sns.displot(orders_df[['order_hour','is_failed','city_id','payment_id','platform_id','customer_order_rank','restaurant_id','transmission_id']])"
   ]
  },
  {
   "cell_type": "code",
   "execution_count": 8,
   "id": "elementary-charm",
   "metadata": {},
   "outputs": [
    {
     "data": {
      "text/plain": [
       "<Figure size 432x288 with 0 Axes>"
      ]
     },
     "metadata": {},
     "output_type": "display_data"
    },
    {
     "data": {
      "image/png": "[encoded data removed]",
      "text/plain": [
       "<Figure size 360x360 with 1 Axes>"
      ]
     },
     "metadata": {
      "needs_background": "light"
     },
     "output_type": "display_data"
    },
    {
     "data": {
      "text/plain": [
       "<Figure size 432x288 with 0 Axes>"
      ]
     },
     "metadata": {},
     "output_type": "display_data"
    },
    {
     "data": {
      "image/png": "[encoded data removed]",
      "text/plain": [
       "<Figure size 360x360 with 1 Axes>"
      ]
     },
     "metadata": {
      "needs_background": "light"
     },
     "output_type": "display_data"
    },
    {
     "data": {
      "text/plain": [
       "<Figure size 432x288 with 0 Axes>"
      ]
     },
     "metadata": {},
     "output_type": "display_data"
    },
    {
     "data": {
      "image/png": "[encoded data removed]",
      "text/plain": [
       "<Figure size 360x360 with 1 Axes>"
      ]
     },
     "metadata": {
      "needs_background": "light"
     },
     "output_type": "display_data"
    },
    {
     "data": {
      "text/plain": [
       "<Figure size 432x288 with 0 Axes>"
      ]
     },
     "metadata": {},
     "output_type": "display_data"
    },
    {
     "data": {
      "image/png": "[encoded data removed]",
      "text/plain": [
       "<Figure size 360x360 with 1 Axes>"
      ]
     },
     "metadata": {
      "needs_background": "light"
     },
     "output_type": "display_data"
    },
    {
     "data": {
      "text/plain": [
       "<Figure size 432x288 with 0 Axes>"
      ]
     },
     "metadata": {},
     "output_type": "display_data"
    },
    {
     "data": {
      "image/png": "[encoded data removed]",
      "text/plain": [
       "<Figure size 360x360 with 1 Axes>"
      ]
     },
     "metadata": {
      "needs_background": "light"
     },
     "output_type": "display_data"
    },
    {
     "data": {
      "text/plain": [
       "<Figure size 432x288 with 0 Axes>"
      ]
     },
     "metadata": {},
     "output_type": "display_data"
    },
    {
     "data": {
      "image/png": "[encoded data removed]",
      "text/plain": [
       "<Figure size 360x360 with 1 Axes>"
      ]
     },
     "metadata": {
      "needs_background": "light"
     },
     "output_type": "display_data"
    },
    {
     "data": {
      "text/plain": [
       "<Figure size 432x288 with 0 Axes>"
      ]
     },
     "metadata": {},
     "output_type": "display_data"
    },
    {
     "data": {
      "image/png": "[encoded data removed]",
      "text/plain": [
       "<Figure size 360x360 with 1 Axes>"
      ]
     },
     "metadata": {
      "needs_background": "light"
     },
     "output_type": "display_data"
    },
    {
     "data": {
      "text/plain": [
       "<Figure size 432x288 with 0 Axes>"
      ]
     },
     "metadata": {},
     "output_type": "display_data"
    },
    {
     "data": {
      "image/png": "[encoded data removed]",
      "text/plain": [
       "<Figure size 360x360 with 1 Axes>"
      ]
     },
     "metadata": {
      "needs_background": "light"
     },
     "output_type": "display_data"
    }
   ],
   "source": [
    "columns=['order_hour','is_failed','city_id','payment_id','platform_id','customer_order_rank','restaurant_id','transmission_id']\n",
    "for col in columns:\n",
    "    plt.figure()\n",
    "    sns.displot(orders_df[col],bins=20)"
   ]
  },
  {
   "cell_type": "markdown",
   "id": "laughing-nepal",
   "metadata": {},
   "source": [
    "Take aways\n",
    "1. is_failed is heavily biased to 0\n",
    "2. There is on dominant platfrom_ids"
   ]
  },
  {
   "cell_type": "code",
   "execution_count": 9,
   "id": "portuguese-platform",
   "metadata": {},
   "outputs": [
    {
     "name": "stderr",
     "output_type": "stream",
     "text": [
      "INFO:Main_Churn_Perdictors:For columns = order_hour..\n",
      "INFO:Main_Churn_Perdictors:unique values = 24\n",
      "INFO:Main_Churn_Perdictors:For columns = is_failed..\n",
      "INFO:Main_Churn_Perdictors:unique values = 2\n",
      "INFO:Main_Churn_Perdictors:For columns = city_id..\n",
      "INFO:Main_Churn_Perdictors:unique values = 3749\n",
      "INFO:Main_Churn_Perdictors:For columns = payment_id..\n",
      "INFO:Main_Churn_Perdictors:unique values = 5\n",
      "INFO:Main_Churn_Perdictors:For columns = platform_id..\n",
      "INFO:Main_Churn_Perdictors:unique values = 14\n",
      "INFO:Main_Churn_Perdictors:For columns = customer_order_rank..\n",
      "INFO:Main_Churn_Perdictors:unique values = 370\n",
      "INFO:Main_Churn_Perdictors:For columns = restaurant_id..\n",
      "INFO:Main_Churn_Perdictors:unique values = 13569\n",
      "INFO:Main_Churn_Perdictors:For columns = transmission_id..\n",
      "INFO:Main_Churn_Perdictors:unique values = 10\n"
     ]
    }
   ],
   "source": [
    "# analyzing the \"count\" for categorical columns to assess the feasibility of hot encoding\n",
    "for col in columns:\n",
    "    logger.info(f'For columns = {col}..')\n",
    "    logger.info(f\"\"\"unique values = {len(orders_df[col].unique())}\"\"\")"
   ]
  },
  {
   "cell_type": "code",
   "execution_count": 10,
   "id": "current-israel",
   "metadata": {},
   "outputs": [],
   "source": [
    "# verifying visuals numerically"
   ]
  },
  {
   "cell_type": "code",
   "execution_count": 11,
   "id": "insured-georgia",
   "metadata": {},
   "outputs": [
    {
     "name": "stderr",
     "output_type": "stream",
     "text": [
      "INFO:Main_Churn_Perdictors:order_df.is_failed normalized counts = \n",
      "0    0.968514\n",
      "1    0.031486\n",
      "Name: is_failed, dtype: float64\n",
      "INFO:Main_Churn_Perdictors:order_df.is_failed normalized counts = \n",
      "29463    0.307047\n",
      "30231    0.275523\n",
      "29815    0.202100\n",
      "30359    0.131773\n",
      "30391    0.031063\n",
      "29751    0.024563\n",
      "29495    0.014176\n",
      "30423    0.008669\n",
      "30199    0.002643\n",
      "525      0.001391\n",
      "30135    0.000753\n",
      "22263    0.000295\n",
      "22167    0.000004\n",
      "22295    0.000001\n",
      "Name: platform_id, dtype: float64\n"
     ]
    }
   ],
   "source": [
    "logger.info(f\"\"\"order_df.is_failed normalized counts = \\n{orders_df['is_failed'].value_counts(normalize = True)}\"\"\")\n",
    "logger.info(f\"\"\"order_df.is_failed normalized counts = \\n{orders_df['platform_id'].value_counts(normalize = True)}\"\"\")"
   ]
  },
  {
   "cell_type": "code",
   "execution_count": 12,
   "id": "public-addition",
   "metadata": {
    "scrolled": false
   },
   "outputs": [
    {
     "data": {
      "image/png": "[encoded data removed]",
      "text/plain": [
       "<Figure size 360x360 with 1 Axes>"
      ]
     },
     "metadata": {
      "needs_background": "light"
     },
     "output_type": "display_data"
    },
    {
     "data": {
      "image/png": "[encoded data removed]",
      "text/plain": [
       "<Figure size 360x360 with 1 Axes>"
      ]
     },
     "metadata": {
      "needs_background": "light"
     },
     "output_type": "display_data"
    },
    {
     "data": {
      "image/png": "[encoded data removed]",
      "text/plain": [
       "<Figure size 360x360 with 1 Axes>"
      ]
     },
     "metadata": {
      "needs_background": "light"
     },
     "output_type": "display_data"
    }
   ],
   "source": [
    "# KDE to plot continous variables\n",
    "# function to plot given columns\n",
    "# focus only on continous variables, as discreate have been analyzed via hist function\n",
    "\n",
    "def kde_batch_numeric(df,columns,q=1):\n",
    "    \"\"\"\n",
    "    df: dataframe to plot \n",
    "    columns: specific columns\n",
    "    q: filtering thershold based on quantiles\n",
    "    \"\"\"\n",
    "    for col in columns:\n",
    "        if isinstance(df[col][0],(float,int)):\n",
    "            val_q = np.quantile(a=df[col],q=q)\n",
    "            filtered_data = df[col][df[col]<=val_q]\n",
    "            sns.displot(filtered_data,kde=True)\n",
    "            plt.title(col)\n",
    "            plt.show()\n",
    "        else:\n",
    "            raise ValueError(f'Column {col} is not float or int')\n",
    "            \n",
    "kde_batch_numeric(df=orders_df,columns=['voucher_amount','delivery_fee','amount_paid'],q=0.95)"
   ]
  },
  {
   "cell_type": "markdown",
   "id": "public-services",
   "metadata": {},
   "source": [
    "Takeaways\n",
    "1. voucher amount is like an impluse signal, most probabably not very useful in prediction\n",
    "2. amount paid distrbution mass is well distributed and can be of prediction power\n",
    "3. delivery fee is heavily skewed"
   ]
  },
  {
   "cell_type": "markdown",
   "id": "removable-repository",
   "metadata": {},
   "source": [
    "From the first quick analysis , we can say that the candidate features are:\n",
    "1. customer_order_rank\n",
    "2. is_failed\n",
    "3. delivery_fee\n",
    "4. amount_paid\n",
    "5. payment_id\n",
    "6. platform_id\n",
    "7. order_date (indirectly by measuring order frequency)\n",
    "\n",
    "In the first iterstion, we will ignore the city_id and restaurant_id as the number of unique values is high and we plan to use one-hot encoding to model categorical values in the beginning.\n",
    "also voucher_amount is very sparse and distribution is highly skewed to zero, will ignore in 1st iteration\n"
   ]
  },
  {
   "cell_type": "markdown",
   "id": "occupied-adult",
   "metadata": {},
   "source": [
    " # 2) Feature Generation\n",
    "The feature generation code is created as follows\n",
    "1. a set of small experimental function to explore\n",
    "2. a clean function that generates the features given a data frame"
   ]
  },
  {
   "cell_type": "code",
   "execution_count": 13,
   "id": "intended-mexican",
   "metadata": {},
   "outputs": [],
   "source": [
    "orders_labeled_df = pd.merge(left=orders_df,right=labeled_df,on='customer_id')"
   ]
  },
  {
   "cell_type": "code",
   "execution_count": 14,
   "id": "tropical-completion",
   "metadata": {},
   "outputs": [
    {
     "data": {
      "text/plain": [
       "(numpy.datetime64('2012-05-17T00:00:00.000000000'),\n",
       " numpy.datetime64('2017-02-27T00:00:00.000000000'))"
      ]
     },
     "execution_count": 14,
     "metadata": {},
     "output_type": "execute_result"
    }
   ],
   "source": [
    "orders_labeled_df['order_date'] = pd.to_datetime(orders_labeled_df['order_date'])\n",
    "max_order_date = np.nanmax(orders_labeled_df['order_date'])\n",
    "min_order_date = np.nanmin(orders_labeled_df['order_date'])\n",
    "min_order_date,max_order_date"
   ]
  },
  {
   "cell_type": "code",
   "execution_count": 15,
   "id": "running-small",
   "metadata": {},
   "outputs": [],
   "source": [
    "def get_mode_scalar(series):# wrapper to get scalar value, not a series\n",
    "    return pd.Series(series).mode()[0]"
   ]
  },
  {
   "cell_type": "code",
   "execution_count": 16,
   "id": "spare-method",
   "metadata": {},
   "outputs": [
    {
     "data": {
      "text/plain": [
       "5.0"
      ]
     },
     "execution_count": 16,
     "metadata": {},
     "output_type": "execute_result"
    }
   ],
   "source": [
    "def avg_days_between_orders(dates,default = -10): # need to revisit the default value , set to be 1 year\n",
    "    if len(dates) <2:\n",
    "        return default\n",
    "    dates_series = pd.Series(data=pd.to_datetime(dates).values).sort_values()\n",
    "    dates_series_lag1 = dates_series.shift(1)\n",
    "    time_delta =  dates_series - dates_series_lag1\n",
    "    time_delta_day = time_delta.apply(lambda x:x.days)\n",
    "    return np.nanmean(time_delta_day)\n",
    "    \n",
    "avg_days_between_orders(dates=['2020-01-20','2020-01-23','2020-01-30'])"
   ]
  },
  {
   "cell_type": "code",
   "execution_count": 17,
   "id": "touched-marble",
   "metadata": {},
   "outputs": [
    {
     "data": {
      "text/plain": [
       "int"
      ]
     },
     "execution_count": 17,
     "metadata": {},
     "output_type": "execute_result"
    }
   ],
   "source": [
    "def time_since_last_order(dates,current_date):\n",
    "    dates = pd.to_datetime(dates)\n",
    "    max_date = np.nanmax(dates)\n",
    "    current_date = pd.to_datetime(current_date)\n",
    "    if current_date < max_date:\n",
    "        raise ValueError('Current date must be >= max date in the dateset')\n",
    "    return (current_date-max_date).days\n",
    "x = time_since_last_order(dates=['2020-01-20','2020-01-23','2020-01-30'],current_date='2020-02-02')\n",
    "type(x)"
   ]
  },
  {
   "cell_type": "code",
   "execution_count": 18,
   "id": "large-friendly",
   "metadata": {},
   "outputs": [],
   "source": [
    "orders_labeled_df['order_date'] = pd.to_datetime(orders_labeled_df['order_date'])\n",
    "orders_labeled_df['order_date_2'] = orders_labeled_df['order_date'] # quick hack to generate 2 features based on the same column"
   ]
  },
  {
   "cell_type": "code",
   "execution_count": 19,
   "id": "circular-borough",
   "metadata": {},
   "outputs": [
    {
     "name": "stderr",
     "output_type": "stream",
     "text": [
      "INFO:Main_Churn_Perdictors:Load compute_orders_labeled_df_agg_1 from cache\n"
     ]
    }
   ],
   "source": [
    "# aggregate data per customers \n",
    "# v1 aggregation is using, average, mode, max as needed, v2 should weight the average based on recency\n",
    "# AFAIU : order_rank is the order of an order per customer, hence max of this number means the total number\n",
    "# of orders for this customer up to this point of time\n",
    "# Warning: this code chunk takes a lot of time, next to use python multi-processing\n",
    "compute_orders_labeled_df_agg_1 = False\n",
    "if compute_orders_labeled_df_agg_1: # switch to avoid long running time\n",
    "    logger.info('Calculate compute_orders_labeled_df_agg_1')\n",
    "    orders_labeled_df_agg_1 = orders_labeled_df.groupby(by='customer_id',as_index = False)\\\n",
    "            .agg({'customer_order_rank':np.nanmax,'is_failed':np.nanmean,\\\n",
    "                  'delivery_fee':np.nanmean,'amount_paid':np.nanmean,\\\n",
    "                  'payment_id':get_mode_scalar,'platform_id':get_mode_scalar,\\\n",
    "                  'is_returning_customer':get_mode_scalar,\n",
    "                 'order_date':avg_days_between_orders,\\\n",
    "                  'order_date_2':lambda x:time_since_last_order(x,current_date=max_order_date)})\n",
    "\n",
    "    orders_labeled_df_agg_1.rename(columns = {'order_date':'avg_days_between_orders'\\\n",
    "                                          ,'order_date_2':'time_since_last_order'},inplace=True)\n",
    "    # caching the data as this phase takes time \n",
    "    orders_labeled_df_agg_1.to_csv('orders_labeled_df_agg_1.csv',index = False) \n",
    "else:\n",
    "    logger.info('Load compute_orders_labeled_df_agg_1 from cache')\n",
    "    orders_labeled_df_agg_1 = pd.read_csv('./orders_labeled_df_agg_1.csv')\n"
   ]
  },
  {
   "cell_type": "code",
   "execution_count": 20,
   "id": "middle-leave",
   "metadata": {},
   "outputs": [],
   "source": [
    "# quick data cleaning first"
   ]
  },
  {
   "cell_type": "code",
   "execution_count": 21,
   "id": "human-carol",
   "metadata": {},
   "outputs": [
    {
     "data": {
      "text/plain": [
       "618"
      ]
     },
     "execution_count": 21,
     "metadata": {},
     "output_type": "execute_result"
    }
   ],
   "source": [
    "orders_labeled_df_agg_1['time_since_last_order'][0]"
   ]
  },
  {
   "cell_type": "code",
   "execution_count": 22,
   "id": "discrete-coordinator",
   "metadata": {},
   "outputs": [
    {
     "name": "stderr",
     "output_type": "stream",
     "text": [
      "INFO:Main_Churn_Perdictors:Removing 2455 based on columns amount_paid which is\n",
      "                1.0 % of the rows\n",
      "INFO:Main_Churn_Perdictors:Removing 2446 based on columns avg_days_between_orders which is\n",
      "                1.0 % of the rows\n",
      "INFO:Main_Churn_Perdictors:Removing 2409 based on columns time_since_last_order which is\n",
      "                0.98 % of the rows\n",
      "INFO:Main_Churn_Perdictors:Total rows remove = 7274 which is \n",
      "            2.96 % of the rows\n"
     ]
    }
   ],
   "source": [
    "def remove_outliers_quantiles(df,columns,q=0.99):\n",
    "    # this function remove outliers based on quantiles, columns must be numeric\n",
    "    n_rows = df.shape[0]\n",
    "    running_idx = pd.Series(np.repeat(True,n_rows))\n",
    "    for col in columns:\n",
    "        if isinstance(df[col][0],(np.float_,np.int_)):\n",
    "            \n",
    "            val_q = np.quantile(a=df[col],q=q)\n",
    "            idx = df[col]<=val_q\n",
    "            running_idx = np.logical_and(running_idx,idx)\n",
    "\n",
    "            row_to_remove_count = idx.value_counts().sort_values().values[0]\n",
    "            logger.info(f\"\"\"Removing {row_to_remove_count} based on columns {col} which is\n",
    "                {np.round(1.0*row_to_remove_count/n_rows,4)*100} % of the rows\"\"\")\n",
    "        else:\n",
    "            logger.error(f'Cannot remove outliers from column {col} as it is not numeric!')\n",
    "        filterd_df = df.loc[running_idx,:]\n",
    "        \n",
    "    total_rows_removed = running_idx.value_counts().sort_values().values[0]\n",
    "    logger.info(f\"\"\"Total rows remove = {total_rows_removed} which is \n",
    "            {np.round(1.0*total_rows_removed/n_rows,4)*100} % of the rows\"\"\")\n",
    "    return filterd_df\n",
    "\n",
    "cols = ['amount_paid','avg_days_between_orders','time_since_last_order']\n",
    "orders_labeled_df_agg_filtered_1 = remove_outliers_quantiles(orders_labeled_df_agg_1,cols)"
   ]
  },
  {
   "cell_type": "code",
   "execution_count": 23,
   "id": "preceding-passage",
   "metadata": {},
   "outputs": [
    {
     "data": {
      "text/plain": [
       "0    0.771313\n",
       "1    0.228687\n",
       "Name: is_returning_customer, dtype: float64"
      ]
     },
     "execution_count": 23,
     "metadata": {},
     "output_type": "execute_result"
    }
   ],
   "source": [
    "orders_labeled_df_agg_filtered_1.is_returning_customer.value_counts(normalize=True)"
   ]
  },
  {
   "cell_type": "code",
   "execution_count": 24,
   "id": "square-briefs",
   "metadata": {},
   "outputs": [
    {
     "data": {
      "text/plain": [
       "1    0.226139\n",
       "0    0.773861\n",
       "Name: is_returning_customer, dtype: float64"
      ]
     },
     "execution_count": 24,
     "metadata": {},
     "output_type": "execute_result"
    }
   ],
   "source": [
    "count = labeled_df.is_returning_customer.value_counts(normalize=True)\n",
    "count.sort_values()"
   ]
  },
  {
   "cell_type": "code",
   "execution_count": 25,
   "id": "under-leonard",
   "metadata": {},
   "outputs": [],
   "source": [
    "# the ratios should be the same, quick sanity check that the merge and filtering didn;t distore the ratios of classes"
   ]
  },
  {
   "cell_type": "code",
   "execution_count": 26,
   "id": "widespread-paintball",
   "metadata": {},
   "outputs": [
    {
     "data": {
      "text/plain": [
       "1    0.5\n",
       "0    0.5\n",
       "Name: is_returning_customer, dtype: float64"
      ]
     },
     "execution_count": 26,
     "metadata": {},
     "output_type": "execute_result"
    }
   ],
   "source": [
    "# balance the dataset using upsampling\n",
    "# reason: intuitively we have a small dataset so losing samples is not required, and the computational power of local \n",
    "# machine should handle it\n",
    "def upsample(df,target_col):\n",
    "    if len(df[target_col].unique())!=2:\n",
    "        raise ValueError('Numer of target unique values must = 2')\n",
    "    count = df[target_col].value_counts(normalize=True).sort_values()\n",
    "    minority_df = df.loc[df[target_col]==count.index[0],:]\n",
    "    majority_df = df.loc[df[target_col]==count.index[1],:]\n",
    "    # upsampling\n",
    "    n_majority = majority_df.shape[0]\n",
    "    minority_df_upsampled = minority_df.sample(n=n_majority,replace=True)\n",
    "    balanced_df = majority_df.append(minority_df_upsampled,ignore_index = True)\n",
    "    count_balanced = balanced_df[target_col].value_counts(normalize=True)\n",
    "    return balanced_df\n",
    "orders_labeled_df_agg_filtered_upsampled_1 = upsample(df=orders_labeled_df_agg_filtered_1\\\n",
    "                                                      ,target_col='is_returning_customer')\n",
    "orders_labeled_df_agg_filtered_upsampled_1['is_returning_customer'].value_counts(normalize=True)"
   ]
  },
  {
   "cell_type": "code",
   "execution_count": 27,
   "id": "integral-novelty",
   "metadata": {},
   "outputs": [
    {
     "data": {
      "text/plain": [
       "customer_id                 object\n",
       "customer_order_rank        float64\n",
       "is_failed                  float64\n",
       "delivery_fee               float64\n",
       "amount_paid                float64\n",
       "payment_id                   int64\n",
       "platform_id                  int64\n",
       "is_returning_customer        int64\n",
       "avg_days_between_orders    float64\n",
       "time_since_last_order        int64\n",
       "dtype: object"
      ]
     },
     "execution_count": 27,
     "metadata": {},
     "output_type": "execute_result"
    }
   ],
   "source": [
    "orders_labeled_df_agg_filtered_upsampled_1.dtypes"
   ]
  },
  {
   "cell_type": "code",
   "execution_count": 28,
   "id": "invalid-pound",
   "metadata": {},
   "outputs": [],
   "source": [
    "# one hot encoding for categorical variables \n",
    "orders_labeled_df_agg_filtered_upsampled_1.drop(columns=['customer_id'],inplace=True)\n"
   ]
  },
  {
   "cell_type": "code",
   "execution_count": 29,
   "id": "aware-leave",
   "metadata": {},
   "outputs": [
    {
     "data": {
      "text/plain": [
       "customer_order_rank        float64\n",
       "is_failed                  float64\n",
       "delivery_fee               float64\n",
       "amount_paid                float64\n",
       "payment_id                  object\n",
       "platform_id                 object\n",
       "is_returning_customer        int64\n",
       "avg_days_between_orders    float64\n",
       "time_since_last_order        int64\n",
       "dtype: object"
      ]
     },
     "execution_count": 29,
     "metadata": {},
     "output_type": "execute_result"
    }
   ],
   "source": [
    "orders_labeled_df_agg_filtered_upsampled_1['payment_id'] = \\\n",
    "    orders_labeled_df_agg_filtered_upsampled_1['payment_id'].astype(str)\n",
    "orders_labeled_df_agg_filtered_upsampled_1['platform_id'] = \\\n",
    "    orders_labeled_df_agg_filtered_upsampled_1['platform_id'].astype(str)\n",
    "orders_labeled_df_agg_filtered_upsampled_1.dtypes"
   ]
  },
  {
   "cell_type": "code",
   "execution_count": 30,
   "id": "settled-metropolitan",
   "metadata": {},
   "outputs": [
    {
     "data": {
      "text/html": [
       "<div>\n",
       "<style scoped>\n",
       "    .dataframe tbody tr th:only-of-type {\n",
       "        vertical-align: middle;\n",
       "    }\n",
       "\n",
       "    .dataframe tbody tr th {\n",
       "        vertical-align: top;\n",
       "    }\n",
       "\n",
       "    .dataframe thead th {\n",
       "        text-align: right;\n",
       "    }\n",
       "</style>\n",
       "<table border=\"1\" class=\"dataframe\">\n",
       "  <thead>\n",
       "    <tr style=\"text-align: right;\">\n",
       "      <th></th>\n",
       "      <th>payment_id_1491</th>\n",
       "      <th>payment_id_1523</th>\n",
       "      <th>payment_id_1619</th>\n",
       "      <th>payment_id_1779</th>\n",
       "      <th>payment_id_1811</th>\n",
       "      <th>platform_id_22167</th>\n",
       "      <th>platform_id_22263</th>\n",
       "      <th>platform_id_29463</th>\n",
       "      <th>platform_id_29495</th>\n",
       "      <th>platform_id_29751</th>\n",
       "      <th>platform_id_29815</th>\n",
       "      <th>platform_id_30135</th>\n",
       "      <th>platform_id_30199</th>\n",
       "      <th>platform_id_30231</th>\n",
       "      <th>platform_id_30359</th>\n",
       "      <th>platform_id_30391</th>\n",
       "      <th>platform_id_30423</th>\n",
       "      <th>platform_id_525</th>\n",
       "    </tr>\n",
       "  </thead>\n",
       "  <tbody>\n",
       "    <tr>\n",
       "      <th>0</th>\n",
       "      <td>0</td>\n",
       "      <td>0</td>\n",
       "      <td>0</td>\n",
       "      <td>1</td>\n",
       "      <td>0</td>\n",
       "      <td>0</td>\n",
       "      <td>0</td>\n",
       "      <td>0</td>\n",
       "      <td>0</td>\n",
       "      <td>0</td>\n",
       "      <td>0</td>\n",
       "      <td>0</td>\n",
       "      <td>0</td>\n",
       "      <td>1</td>\n",
       "      <td>0</td>\n",
       "      <td>0</td>\n",
       "      <td>0</td>\n",
       "      <td>0</td>\n",
       "    </tr>\n",
       "    <tr>\n",
       "      <th>1</th>\n",
       "      <td>0</td>\n",
       "      <td>0</td>\n",
       "      <td>1</td>\n",
       "      <td>0</td>\n",
       "      <td>0</td>\n",
       "      <td>0</td>\n",
       "      <td>0</td>\n",
       "      <td>0</td>\n",
       "      <td>0</td>\n",
       "      <td>0</td>\n",
       "      <td>0</td>\n",
       "      <td>0</td>\n",
       "      <td>0</td>\n",
       "      <td>0</td>\n",
       "      <td>1</td>\n",
       "      <td>0</td>\n",
       "      <td>0</td>\n",
       "      <td>0</td>\n",
       "    </tr>\n",
       "    <tr>\n",
       "      <th>2</th>\n",
       "      <td>0</td>\n",
       "      <td>0</td>\n",
       "      <td>1</td>\n",
       "      <td>0</td>\n",
       "      <td>0</td>\n",
       "      <td>0</td>\n",
       "      <td>0</td>\n",
       "      <td>0</td>\n",
       "      <td>0</td>\n",
       "      <td>0</td>\n",
       "      <td>0</td>\n",
       "      <td>0</td>\n",
       "      <td>0</td>\n",
       "      <td>0</td>\n",
       "      <td>1</td>\n",
       "      <td>0</td>\n",
       "      <td>0</td>\n",
       "      <td>0</td>\n",
       "    </tr>\n",
       "    <tr>\n",
       "      <th>3</th>\n",
       "      <td>0</td>\n",
       "      <td>0</td>\n",
       "      <td>1</td>\n",
       "      <td>0</td>\n",
       "      <td>0</td>\n",
       "      <td>0</td>\n",
       "      <td>0</td>\n",
       "      <td>1</td>\n",
       "      <td>0</td>\n",
       "      <td>0</td>\n",
       "      <td>0</td>\n",
       "      <td>0</td>\n",
       "      <td>0</td>\n",
       "      <td>0</td>\n",
       "      <td>0</td>\n",
       "      <td>0</td>\n",
       "      <td>0</td>\n",
       "      <td>0</td>\n",
       "    </tr>\n",
       "    <tr>\n",
       "      <th>4</th>\n",
       "      <td>0</td>\n",
       "      <td>0</td>\n",
       "      <td>1</td>\n",
       "      <td>0</td>\n",
       "      <td>0</td>\n",
       "      <td>0</td>\n",
       "      <td>0</td>\n",
       "      <td>1</td>\n",
       "      <td>0</td>\n",
       "      <td>0</td>\n",
       "      <td>0</td>\n",
       "      <td>0</td>\n",
       "      <td>0</td>\n",
       "      <td>0</td>\n",
       "      <td>0</td>\n",
       "      <td>0</td>\n",
       "      <td>0</td>\n",
       "      <td>0</td>\n",
       "    </tr>\n",
       "  </tbody>\n",
       "</table>\n",
       "</div>"
      ],
      "text/plain": [
       "   payment_id_1491  payment_id_1523  payment_id_1619  payment_id_1779  \\\n",
       "0                0                0                0                1   \n",
       "1                0                0                1                0   \n",
       "2                0                0                1                0   \n",
       "3                0                0                1                0   \n",
       "4                0                0                1                0   \n",
       "\n",
       "   payment_id_1811  platform_id_22167  platform_id_22263  platform_id_29463  \\\n",
       "0                0                  0                  0                  0   \n",
       "1                0                  0                  0                  0   \n",
       "2                0                  0                  0                  0   \n",
       "3                0                  0                  0                  1   \n",
       "4                0                  0                  0                  1   \n",
       "\n",
       "   platform_id_29495  platform_id_29751  platform_id_29815  platform_id_30135  \\\n",
       "0                  0                  0                  0                  0   \n",
       "1                  0                  0                  0                  0   \n",
       "2                  0                  0                  0                  0   \n",
       "3                  0                  0                  0                  0   \n",
       "4                  0                  0                  0                  0   \n",
       "\n",
       "   platform_id_30199  platform_id_30231  platform_id_30359  platform_id_30391  \\\n",
       "0                  0                  1                  0                  0   \n",
       "1                  0                  0                  1                  0   \n",
       "2                  0                  0                  1                  0   \n",
       "3                  0                  0                  0                  0   \n",
       "4                  0                  0                  0                  0   \n",
       "\n",
       "   platform_id_30423  platform_id_525  \n",
       "0                  0                0  \n",
       "1                  0                0  \n",
       "2                  0                0  \n",
       "3                  0                0  \n",
       "4                  0                0  "
      ]
     },
     "execution_count": 30,
     "metadata": {},
     "output_type": "execute_result"
    }
   ],
   "source": [
    "one_hot_encoding_df = pd.get_dummies(orders_labeled_df_agg_filtered_upsampled_1[['payment_id','platform_id']])\n",
    "one_hot_encoding_df.head()"
   ]
  },
  {
   "cell_type": "code",
   "execution_count": 31,
   "id": "compact-fight",
   "metadata": {},
   "outputs": [],
   "source": [
    "orders_labeled_df_agg_filtered_upsampled_1.drop(columns=['payment_id','platform_id'],inplace=True)"
   ]
  },
  {
   "cell_type": "code",
   "execution_count": 32,
   "id": "offshore-detroit",
   "metadata": {},
   "outputs": [
    {
     "data": {
      "text/html": [
       "<div>\n",
       "<style scoped>\n",
       "    .dataframe tbody tr th:only-of-type {\n",
       "        vertical-align: middle;\n",
       "    }\n",
       "\n",
       "    .dataframe tbody tr th {\n",
       "        vertical-align: top;\n",
       "    }\n",
       "\n",
       "    .dataframe thead th {\n",
       "        text-align: right;\n",
       "    }\n",
       "</style>\n",
       "<table border=\"1\" class=\"dataframe\">\n",
       "  <thead>\n",
       "    <tr style=\"text-align: right;\">\n",
       "      <th></th>\n",
       "      <th>customer_order_rank</th>\n",
       "      <th>is_failed</th>\n",
       "      <th>delivery_fee</th>\n",
       "      <th>amount_paid</th>\n",
       "      <th>is_returning_customer</th>\n",
       "      <th>avg_days_between_orders</th>\n",
       "      <th>time_since_last_order</th>\n",
       "      <th>payment_id_1491</th>\n",
       "      <th>payment_id_1523</th>\n",
       "      <th>payment_id_1619</th>\n",
       "      <th>...</th>\n",
       "      <th>platform_id_29495</th>\n",
       "      <th>platform_id_29751</th>\n",
       "      <th>platform_id_29815</th>\n",
       "      <th>platform_id_30135</th>\n",
       "      <th>platform_id_30199</th>\n",
       "      <th>platform_id_30231</th>\n",
       "      <th>platform_id_30359</th>\n",
       "      <th>platform_id_30391</th>\n",
       "      <th>platform_id_30423</th>\n",
       "      <th>platform_id_525</th>\n",
       "    </tr>\n",
       "  </thead>\n",
       "  <tbody>\n",
       "    <tr>\n",
       "      <th>0</th>\n",
       "      <td>1.0</td>\n",
       "      <td>0.0</td>\n",
       "      <td>0.000</td>\n",
       "      <td>11.4696</td>\n",
       "      <td>0</td>\n",
       "      <td>-10.0</td>\n",
       "      <td>618</td>\n",
       "      <td>0</td>\n",
       "      <td>0</td>\n",
       "      <td>0</td>\n",
       "      <td>...</td>\n",
       "      <td>0</td>\n",
       "      <td>0</td>\n",
       "      <td>0</td>\n",
       "      <td>0</td>\n",
       "      <td>0</td>\n",
       "      <td>1</td>\n",
       "      <td>0</td>\n",
       "      <td>0</td>\n",
       "      <td>0</td>\n",
       "      <td>0</td>\n",
       "    </tr>\n",
       "    <tr>\n",
       "      <th>1</th>\n",
       "      <td>1.0</td>\n",
       "      <td>0.0</td>\n",
       "      <td>0.000</td>\n",
       "      <td>9.5580</td>\n",
       "      <td>0</td>\n",
       "      <td>-10.0</td>\n",
       "      <td>395</td>\n",
       "      <td>0</td>\n",
       "      <td>0</td>\n",
       "      <td>1</td>\n",
       "      <td>...</td>\n",
       "      <td>0</td>\n",
       "      <td>0</td>\n",
       "      <td>0</td>\n",
       "      <td>0</td>\n",
       "      <td>0</td>\n",
       "      <td>0</td>\n",
       "      <td>1</td>\n",
       "      <td>0</td>\n",
       "      <td>0</td>\n",
       "      <td>0</td>\n",
       "    </tr>\n",
       "    <tr>\n",
       "      <th>2</th>\n",
       "      <td>1.0</td>\n",
       "      <td>0.0</td>\n",
       "      <td>0.493</td>\n",
       "      <td>9.8235</td>\n",
       "      <td>0</td>\n",
       "      <td>-10.0</td>\n",
       "      <td>22</td>\n",
       "      <td>0</td>\n",
       "      <td>0</td>\n",
       "      <td>1</td>\n",
       "      <td>...</td>\n",
       "      <td>0</td>\n",
       "      <td>0</td>\n",
       "      <td>0</td>\n",
       "      <td>0</td>\n",
       "      <td>0</td>\n",
       "      <td>0</td>\n",
       "      <td>1</td>\n",
       "      <td>0</td>\n",
       "      <td>0</td>\n",
       "      <td>0</td>\n",
       "    </tr>\n",
       "    <tr>\n",
       "      <th>3</th>\n",
       "      <td>1.0</td>\n",
       "      <td>0.0</td>\n",
       "      <td>0.493</td>\n",
       "      <td>5.1507</td>\n",
       "      <td>0</td>\n",
       "      <td>-10.0</td>\n",
       "      <td>573</td>\n",
       "      <td>0</td>\n",
       "      <td>0</td>\n",
       "      <td>1</td>\n",
       "      <td>...</td>\n",
       "      <td>0</td>\n",
       "      <td>0</td>\n",
       "      <td>0</td>\n",
       "      <td>0</td>\n",
       "      <td>0</td>\n",
       "      <td>0</td>\n",
       "      <td>0</td>\n",
       "      <td>0</td>\n",
       "      <td>0</td>\n",
       "      <td>0</td>\n",
       "    </tr>\n",
       "    <tr>\n",
       "      <th>4</th>\n",
       "      <td>3.0</td>\n",
       "      <td>0.0</td>\n",
       "      <td>0.000</td>\n",
       "      <td>10.9386</td>\n",
       "      <td>0</td>\n",
       "      <td>259.0</td>\n",
       "      <td>30</td>\n",
       "      <td>0</td>\n",
       "      <td>0</td>\n",
       "      <td>1</td>\n",
       "      <td>...</td>\n",
       "      <td>0</td>\n",
       "      <td>0</td>\n",
       "      <td>0</td>\n",
       "      <td>0</td>\n",
       "      <td>0</td>\n",
       "      <td>0</td>\n",
       "      <td>0</td>\n",
       "      <td>0</td>\n",
       "      <td>0</td>\n",
       "      <td>0</td>\n",
       "    </tr>\n",
       "  </tbody>\n",
       "</table>\n",
       "<p>5 rows × 25 columns</p>\n",
       "</div>"
      ],
      "text/plain": [
       "   customer_order_rank  is_failed  delivery_fee  amount_paid  \\\n",
       "0                  1.0        0.0         0.000      11.4696   \n",
       "1                  1.0        0.0         0.000       9.5580   \n",
       "2                  1.0        0.0         0.493       9.8235   \n",
       "3                  1.0        0.0         0.493       5.1507   \n",
       "4                  3.0        0.0         0.000      10.9386   \n",
       "\n",
       "   is_returning_customer  avg_days_between_orders  time_since_last_order  \\\n",
       "0                      0                    -10.0                    618   \n",
       "1                      0                    -10.0                    395   \n",
       "2                      0                    -10.0                     22   \n",
       "3                      0                    -10.0                    573   \n",
       "4                      0                    259.0                     30   \n",
       "\n",
       "   payment_id_1491  payment_id_1523  payment_id_1619  ...  platform_id_29495  \\\n",
       "0                0                0                0  ...                  0   \n",
       "1                0                0                1  ...                  0   \n",
       "2                0                0                1  ...                  0   \n",
       "3                0                0                1  ...                  0   \n",
       "4                0                0                1  ...                  0   \n",
       "\n",
       "   platform_id_29751  platform_id_29815  platform_id_30135  platform_id_30199  \\\n",
       "0                  0                  0                  0                  0   \n",
       "1                  0                  0                  0                  0   \n",
       "2                  0                  0                  0                  0   \n",
       "3                  0                  0                  0                  0   \n",
       "4                  0                  0                  0                  0   \n",
       "\n",
       "   platform_id_30231  platform_id_30359  platform_id_30391  platform_id_30423  \\\n",
       "0                  1                  0                  0                  0   \n",
       "1                  0                  1                  0                  0   \n",
       "2                  0                  1                  0                  0   \n",
       "3                  0                  0                  0                  0   \n",
       "4                  0                  0                  0                  0   \n",
       "\n",
       "   platform_id_525  \n",
       "0                0  \n",
       "1                0  \n",
       "2                0  \n",
       "3                0  \n",
       "4                0  \n",
       "\n",
       "[5 rows x 25 columns]"
      ]
     },
     "execution_count": 32,
     "metadata": {},
     "output_type": "execute_result"
    }
   ],
   "source": [
    "orders_labeled_df_agg_filtered_upsampled_features_1 = pd.concat([orders_labeled_df_agg_filtered_upsampled_1,one_hot_encoding_df],axis='columns',ignore_index=False)\n",
    "orders_labeled_df_agg_filtered_upsampled_features_1.head()"
   ]
  },
  {
   "cell_type": "code",
   "execution_count": 33,
   "id": "heard-business",
   "metadata": {},
   "outputs": [
    {
     "data": {
      "text/plain": [
       "Index(['customer_order_rank', 'is_failed', 'delivery_fee', 'amount_paid',\n",
       "       'is_returning_customer', 'avg_days_between_orders',\n",
       "       'time_since_last_order', 'payment_id_1491', 'payment_id_1523',\n",
       "       'payment_id_1619', 'payment_id_1779', 'payment_id_1811',\n",
       "       'platform_id_22167', 'platform_id_22263', 'platform_id_29463',\n",
       "       'platform_id_29495', 'platform_id_29751', 'platform_id_29815',\n",
       "       'platform_id_30135', 'platform_id_30199', 'platform_id_30231',\n",
       "       'platform_id_30359', 'platform_id_30391', 'platform_id_30423',\n",
       "       'platform_id_525'],\n",
       "      dtype='object')"
      ]
     },
     "execution_count": 33,
     "metadata": {},
     "output_type": "execute_result"
    }
   ],
   "source": [
    "orders_labeled_df_agg_filtered_upsampled_features_1.columns"
   ]
  },
  {
   "cell_type": "markdown",
   "id": "filled-apache",
   "metadata": {},
   "source": [
    "# 3) Modeling+Testing , iteration 1 , logistic regression"
   ]
  },
  {
   "cell_type": "code",
   "execution_count": 38,
   "id": "veterinary-essence",
   "metadata": {},
   "outputs": [],
   "source": [
    "from sklearn.model_selection import GridSearchCV\n",
    "from sklearn.metrics import roc_auc_score\n",
    "from sklearn.linear_model import LogisticRegressionCV,LogisticRegression\n",
    "from sklearn.ensemble import AdaBoostClassifier"
   ]
  },
  {
   "cell_type": "code",
   "execution_count": 39,
   "id": "infectious-ethics",
   "metadata": {},
   "outputs": [
    {
     "data": {
      "text/plain": [
       "-0.00446350809963421"
      ]
     },
     "execution_count": 39,
     "metadata": {},
     "output_type": "execute_result"
    }
   ],
   "source": [
    "# drop any row that has na, as fit methods doesn't handle it, need to find better nan imputation method\n",
    "# like interpolation\n",
    "orders_labeled_df_agg_filtered_upsampled_features_not_nan_1 = \\\n",
    "    orders_labeled_df_agg_filtered_upsampled_features_1.dropna()\n",
    "n_all = orders_labeled_df_agg_filtered_upsampled_features_1.shape[0]\n",
    "n_na_drop = orders_labeled_df_agg_filtered_upsampled_features_not_nan_1.shape[0]\n",
    "(n_na_drop-n_all)/n_all # negligible fraction"
   ]
  },
  {
   "cell_type": "code",
   "execution_count": 40,
   "id": "tight-console",
   "metadata": {},
   "outputs": [],
   "source": [
    "X_cols = ['customer_order_rank', 'is_failed', 'delivery_fee', 'amount_paid',\n",
    "        'avg_days_between_orders',\n",
    "       'time_since_last_order', 'payment_id_1491', 'payment_id_1523',\n",
    "       'payment_id_1619', 'payment_id_1779', 'payment_id_1811',\n",
    "       'platform_id_22167', 'platform_id_22263', 'platform_id_29463',\n",
    "       'platform_id_29495', 'platform_id_29751', 'platform_id_29815',\n",
    "       'platform_id_30135', 'platform_id_30199', 'platform_id_30231',\n",
    "       'platform_id_30359', 'platform_id_30391', 'platform_id_30423',\n",
    "       'platform_id_525']\n",
    "y_col = 'is_returning_customer'\n",
    "X = orders_labeled_df_agg_filtered_upsampled_features_not_nan_1.loc[:,X_cols]\n",
    "y = orders_labeled_df_agg_filtered_upsampled_features_not_nan_1.loc[:,y_col]"
   ]
  },
  {
   "cell_type": "markdown",
   "id": "missing-medicine",
   "metadata": {},
   "source": [
    "## Model1 , logistic regression , to use as a benchmark"
   ]
  },
  {
   "cell_type": "code",
   "execution_count": null,
   "id": "sound-deposit",
   "metadata": {},
   "outputs": [
    {
     "name": "stderr",
     "output_type": "stream",
     "text": [
      "INFO:Main_Churn_Perdictors:Using score roc_auc\n",
      "/Library/Frameworks/Python.framework/Versions/3.7/lib/python3.7/site-packages/sklearn/linear_model/_logistic.py:765: ConvergenceWarning: lbfgs failed to converge (status=1):\n",
      "STOP: TOTAL NO. of ITERATIONS REACHED LIMIT.\n",
      "\n",
      "Increase the number of iterations (max_iter) or scale the data as shown in:\n",
      "    https://scikit-learn.org/stable/modules/preprocessing.html\n",
      "Please also refer to the documentation for alternative solver options:\n",
      "    https://scikit-learn.org/stable/modules/linear_model.html#logistic-regression\n",
      "  extra_warning_msg=_LOGISTIC_SOLVER_CONVERGENCE_MSG)\n",
      "/Library/Frameworks/Python.framework/Versions/3.7/lib/python3.7/site-packages/sklearn/linear_model/_logistic.py:765: ConvergenceWarning: lbfgs failed to converge (status=1):\n",
      "STOP: TOTAL NO. of ITERATIONS REACHED LIMIT.\n",
      "\n",
      "Increase the number of iterations (max_iter) or scale the data as shown in:\n",
      "    https://scikit-learn.org/stable/modules/preprocessing.html\n",
      "Please also refer to the documentation for alternative solver options:\n",
      "    https://scikit-learn.org/stable/modules/linear_model.html#logistic-regression\n",
      "  extra_warning_msg=_LOGISTIC_SOLVER_CONVERGENCE_MSG)\n",
      "/Library/Frameworks/Python.framework/Versions/3.7/lib/python3.7/site-packages/sklearn/linear_model/_logistic.py:765: ConvergenceWarning: lbfgs failed to converge (status=1):\n",
      "STOP: TOTAL NO. of ITERATIONS REACHED LIMIT.\n",
      "\n",
      "Increase the number of iterations (max_iter) or scale the data as shown in:\n",
      "    https://scikit-learn.org/stable/modules/preprocessing.html\n",
      "Please also refer to the documentation for alternative solver options:\n",
      "    https://scikit-learn.org/stable/modules/linear_model.html#logistic-regression\n",
      "  extra_warning_msg=_LOGISTIC_SOLVER_CONVERGENCE_MSG)\n"
     ]
    }
   ],
   "source": [
    "parameters = {'C':[0.1,1,10]} # different C's to test how stronger regularization affect the final score\n",
    "scores = ['roc_auc','precision','recall']\n",
    "best_scores_lr_dict = dict()\n",
    "for score in scores:\n",
    "    logger.info(f'Using score {score}')\n",
    "    gs_lr = GridSearchCV(estimator=LogisticRegression(),param_grid=parameters, cv=3, scoring=score,verbose=0)\n",
    "    gs_lr_fit = gs_lr.fit(X=X,y=y)\n",
    "    logger.info(f'Best estimator = {gs_lr_fit.best_estimator_}')\n",
    "    logger.info(f'best {score} = {gs_lr_fit.best_score_}')\n",
    "    best_scores_lr_dict[score] = gs_lr_fit.best_score_"
   ]
  },
  {
   "cell_type": "code",
   "execution_count": null,
   "id": "composite-recipe",
   "metadata": {},
   "outputs": [],
   "source": [
    "best_scores_lr_dict"
   ]
  },
  {
   "cell_type": "markdown",
   "id": "prescribed-corrections",
   "metadata": {},
   "source": [
    "## Model 2) Adaboost as a nonlinear , ensemble model"
   ]
  },
  {
   "cell_type": "code",
   "execution_count": null,
   "id": "signed-identifier",
   "metadata": {},
   "outputs": [],
   "source": [
    "# experiment adaboost as an ensemble not linear model\n",
    "# the basic assumption is that features like avg days between purhcases and time since last purchase, follows a non linear \n",
    "# behavior when affecting the target variable"
   ]
  },
  {
   "cell_type": "code",
   "execution_count": null,
   "id": "quick-conjunction",
   "metadata": {},
   "outputs": [],
   "source": [
    "parameters = {'n_estimators':[20,50,100],'learning_rate':[0.1,1,10]}\n",
    "scores = ['roc_auc','precision','recall']\n",
    "best_scores_ada_dict = dict()\n",
    "for score in scores:\n",
    "    logger.info(f'Using score {score}')\n",
    "    gs_ada = GridSearchCV(estimator=AdaBoostClassifier(),param_grid=parameters, cv=3, scoring=score,verbose=10)\n",
    "    gs_ada_fit = gs_ada.fit(X=X,y=y)\n",
    "    logger.info(f'Best estimator = {gs_ada_fit.best_estimator_}')\n",
    "    logger.info(f'best {score} = {gs_ada_fit.best_score_}')\n",
    "    best_scores_ada_dict[score] = gs_ada_fit.best_score_"
   ]
  },
  {
   "cell_type": "code",
   "execution_count": null,
   "id": "clean-treaty",
   "metadata": {},
   "outputs": [],
   "source": [
    "best_scores_ada_dict"
   ]
  },
  {
   "cell_type": "markdown",
   "id": "shaped-employer",
   "metadata": {},
   "source": [
    "## Conclusion\n",
    "1. Adaboost model gives better performance (slightly) over logistic regression\n",
    "2. Nonlineariy exists in feature vector target correlation, further non-linear models, like neural networks, can perform better"
   ]
  },
  {
   "cell_type": "markdown",
   "id": "understanding-beaver",
   "metadata": {},
   "source": [
    "## Future Work\n",
    "1. apply customer segmentation to further understand customer behavior, for example , we can find 4 clusters based on \n",
    " frequency and paying level of customers, divided into high / low leverls\n",
    "2. apply NN to assign new customers to one of the segments\n",
    "3. experiment different models for each cusotmers , for example, adaboost model might perform the best in the\n",
    "    most frequent, highest paying customers, but logistic regression will perform the best in \n",
    "    low frequency low paying customers\n",
    "4. This 2 layer architecure despite being complex, but will be more interpretable to stakeholders and eventually \n",
    "  can lead to better results than \"one-size fits all\" model"
   ]
  },
  {
   "cell_type": "markdown",
   "id": "thrown-excellence",
   "metadata": {},
   "source": [
    "Backlog\n",
    "1. improve historgrams\n",
    "2. user order_date for weighting the samples (recency)\n",
    "3. user distributions to further reduce the one-hot encoding results\n",
    "4. consider per days orders "
   ]
  }
 ],
 "metadata": {
  "kernelspec": {
   "display_name": "Python 3",
   "language": "python",
   "name": "python3"
  },
  "language_info": {
   "codemirror_mode": {
    "name": "ipython",
    "version": 3
   },
   "file_extension": ".py",
   "mimetype": "text/x-python",
   "name": "python",
   "nbconvert_exporter": "python",
   "pygments_lexer": "ipython3",
   "version": "3.7.0"
  }
 },
 "nbformat": 4,
 "nbformat_minor": 5
}
