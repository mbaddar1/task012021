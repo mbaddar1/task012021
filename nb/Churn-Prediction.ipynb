{
 "cells": [
  {
   "cell_type": "code",
   "execution_count": 1,
   "id": "super-ethics",
   "metadata": {},
   "outputs": [],
   "source": [
    "# import sys\n",
    "# !{sys.executable} -m pip install plotly"
   ]
  },
  {
   "cell_type": "code",
   "execution_count": 2,
   "id": "scheduled-price",
   "metadata": {},
   "outputs": [],
   "source": [
    "%config Completer.use_jedi = False # to enable auto complete"
   ]
  },
  {
   "cell_type": "code",
   "execution_count": 29,
   "id": "common-manhattan",
   "metadata": {},
   "outputs": [],
   "source": [
    "import pandas as pd\n",
    "import logging\n",
    "from seaborn import kdeplot\n",
    "import matplotlib.pyplot as plt\n",
    "import numpy as np"
   ]
  },
  {
   "cell_type": "code",
   "execution_count": 4,
   "id": "chronic-france",
   "metadata": {},
   "outputs": [],
   "source": [
    "logging.basicConfig(level=logging.INFO)\n",
    "logger = logging.getLogger('Main_Churn_Perdictors')"
   ]
  },
  {
   "cell_type": "code",
   "execution_count": 5,
   "id": "criminal-australia",
   "metadata": {},
   "outputs": [],
   "source": [
    "orders_df = pd.read_csv('../data/machine_learning_challenge_order_data.csv')\n",
    "labeled_df = pd.read_csv('../data/machine_learning_challenge_labeled_data.csv')"
   ]
  },
  {
   "cell_type": "code",
   "execution_count": 6,
   "id": "ethical-fitting",
   "metadata": {},
   "outputs": [
    {
     "data": {
      "text/html": [
       "<div>\n",
       "<style scoped>\n",
       "    .dataframe tbody tr th:only-of-type {\n",
       "        vertical-align: middle;\n",
       "    }\n",
       "\n",
       "    .dataframe tbody tr th {\n",
       "        vertical-align: top;\n",
       "    }\n",
       "\n",
       "    .dataframe thead th {\n",
       "        text-align: right;\n",
       "    }\n",
       "</style>\n",
       "<table border=\"1\" class=\"dataframe\">\n",
       "  <thead>\n",
       "    <tr style=\"text-align: right;\">\n",
       "      <th></th>\n",
       "      <th>customer_id</th>\n",
       "      <th>order_date</th>\n",
       "      <th>order_hour</th>\n",
       "      <th>customer_order_rank</th>\n",
       "      <th>is_failed</th>\n",
       "      <th>voucher_amount</th>\n",
       "      <th>delivery_fee</th>\n",
       "      <th>amount_paid</th>\n",
       "      <th>restaurant_id</th>\n",
       "      <th>city_id</th>\n",
       "      <th>payment_id</th>\n",
       "      <th>platform_id</th>\n",
       "      <th>transmission_id</th>\n",
       "    </tr>\n",
       "  </thead>\n",
       "  <tbody>\n",
       "    <tr>\n",
       "      <th>0</th>\n",
       "      <td>000097eabfd9</td>\n",
       "      <td>2015-06-20</td>\n",
       "      <td>19</td>\n",
       "      <td>1.0</td>\n",
       "      <td>0</td>\n",
       "      <td>0.0</td>\n",
       "      <td>0.000</td>\n",
       "      <td>11.46960</td>\n",
       "      <td>5803498</td>\n",
       "      <td>20326</td>\n",
       "      <td>1779</td>\n",
       "      <td>30231</td>\n",
       "      <td>4356</td>\n",
       "    </tr>\n",
       "    <tr>\n",
       "      <th>1</th>\n",
       "      <td>0000e2c6d9be</td>\n",
       "      <td>2016-01-29</td>\n",
       "      <td>20</td>\n",
       "      <td>1.0</td>\n",
       "      <td>0</td>\n",
       "      <td>0.0</td>\n",
       "      <td>0.000</td>\n",
       "      <td>9.55800</td>\n",
       "      <td>239303498</td>\n",
       "      <td>76547</td>\n",
       "      <td>1619</td>\n",
       "      <td>30359</td>\n",
       "      <td>4356</td>\n",
       "    </tr>\n",
       "    <tr>\n",
       "      <th>2</th>\n",
       "      <td>000133bb597f</td>\n",
       "      <td>2017-02-26</td>\n",
       "      <td>19</td>\n",
       "      <td>1.0</td>\n",
       "      <td>0</td>\n",
       "      <td>0.0</td>\n",
       "      <td>0.493</td>\n",
       "      <td>5.93658</td>\n",
       "      <td>206463498</td>\n",
       "      <td>33833</td>\n",
       "      <td>1619</td>\n",
       "      <td>30359</td>\n",
       "      <td>4324</td>\n",
       "    </tr>\n",
       "    <tr>\n",
       "      <th>3</th>\n",
       "      <td>00018269939b</td>\n",
       "      <td>2017-02-05</td>\n",
       "      <td>17</td>\n",
       "      <td>1.0</td>\n",
       "      <td>0</td>\n",
       "      <td>0.0</td>\n",
       "      <td>0.493</td>\n",
       "      <td>9.82350</td>\n",
       "      <td>36613498</td>\n",
       "      <td>99315</td>\n",
       "      <td>1619</td>\n",
       "      <td>30359</td>\n",
       "      <td>4356</td>\n",
       "    </tr>\n",
       "    <tr>\n",
       "      <th>4</th>\n",
       "      <td>0001a00468a6</td>\n",
       "      <td>2015-08-04</td>\n",
       "      <td>19</td>\n",
       "      <td>1.0</td>\n",
       "      <td>0</td>\n",
       "      <td>0.0</td>\n",
       "      <td>0.493</td>\n",
       "      <td>5.15070</td>\n",
       "      <td>225853498</td>\n",
       "      <td>16456</td>\n",
       "      <td>1619</td>\n",
       "      <td>29463</td>\n",
       "      <td>4356</td>\n",
       "    </tr>\n",
       "  </tbody>\n",
       "</table>\n",
       "</div>"
      ],
      "text/plain": [
       "    customer_id  order_date  order_hour  customer_order_rank  is_failed  \\\n",
       "0  000097eabfd9  2015-06-20          19                  1.0          0   \n",
       "1  0000e2c6d9be  2016-01-29          20                  1.0          0   \n",
       "2  000133bb597f  2017-02-26          19                  1.0          0   \n",
       "3  00018269939b  2017-02-05          17                  1.0          0   \n",
       "4  0001a00468a6  2015-08-04          19                  1.0          0   \n",
       "\n",
       "   voucher_amount  delivery_fee  amount_paid  restaurant_id  city_id  \\\n",
       "0             0.0         0.000     11.46960        5803498    20326   \n",
       "1             0.0         0.000      9.55800      239303498    76547   \n",
       "2             0.0         0.493      5.93658      206463498    33833   \n",
       "3             0.0         0.493      9.82350       36613498    99315   \n",
       "4             0.0         0.493      5.15070      225853498    16456   \n",
       "\n",
       "   payment_id  platform_id  transmission_id  \n",
       "0        1779        30231             4356  \n",
       "1        1619        30359             4356  \n",
       "2        1619        30359             4324  \n",
       "3        1619        30359             4356  \n",
       "4        1619        29463             4356  "
      ]
     },
     "execution_count": 6,
     "metadata": {},
     "output_type": "execute_result"
    }
   ],
   "source": [
    "orders_df.head()"
   ]
  },
  {
   "cell_type": "code",
   "execution_count": 7,
   "id": "rational-swift",
   "metadata": {
    "scrolled": false
   },
   "outputs": [
    {
     "data": {
      "text/html": [
       "<div>\n",
       "<style scoped>\n",
       "    .dataframe tbody tr th:only-of-type {\n",
       "        vertical-align: middle;\n",
       "    }\n",
       "\n",
       "    .dataframe tbody tr th {\n",
       "        vertical-align: top;\n",
       "    }\n",
       "\n",
       "    .dataframe thead th {\n",
       "        text-align: right;\n",
       "    }\n",
       "</style>\n",
       "<table border=\"1\" class=\"dataframe\">\n",
       "  <thead>\n",
       "    <tr style=\"text-align: right;\">\n",
       "      <th></th>\n",
       "      <th>customer_id</th>\n",
       "      <th>is_returning_customer</th>\n",
       "    </tr>\n",
       "  </thead>\n",
       "  <tbody>\n",
       "    <tr>\n",
       "      <th>0</th>\n",
       "      <td>000097eabfd9</td>\n",
       "      <td>0</td>\n",
       "    </tr>\n",
       "    <tr>\n",
       "      <th>1</th>\n",
       "      <td>0000e2c6d9be</td>\n",
       "      <td>0</td>\n",
       "    </tr>\n",
       "    <tr>\n",
       "      <th>2</th>\n",
       "      <td>000133bb597f</td>\n",
       "      <td>1</td>\n",
       "    </tr>\n",
       "    <tr>\n",
       "      <th>3</th>\n",
       "      <td>00018269939b</td>\n",
       "      <td>0</td>\n",
       "    </tr>\n",
       "    <tr>\n",
       "      <th>4</th>\n",
       "      <td>0001a00468a6</td>\n",
       "      <td>0</td>\n",
       "    </tr>\n",
       "  </tbody>\n",
       "</table>\n",
       "</div>"
      ],
      "text/plain": [
       "    customer_id  is_returning_customer\n",
       "0  000097eabfd9                      0\n",
       "1  0000e2c6d9be                      0\n",
       "2  000133bb597f                      1\n",
       "3  00018269939b                      0\n",
       "4  0001a00468a6                      0"
      ]
     },
     "execution_count": 7,
     "metadata": {},
     "output_type": "execute_result"
    }
   ],
   "source": [
    "labeled_df.head()"
   ]
  },
  {
   "cell_type": "markdown",
   "id": "allied-sessions",
   "metadata": {},
   "source": [
    "## Exploratory Data analysis:"
   ]
  },
  {
   "cell_type": "markdown",
   "id": "institutional-boston",
   "metadata": {},
   "source": [
    "### Overall data analysis"
   ]
  },
  {
   "cell_type": "code",
   "execution_count": null,
   "id": "bronze-defense",
   "metadata": {},
   "outputs": [],
   "source": [
    "plt.hist"
   ]
  },
  {
   "cell_type": "code",
   "execution_count": 27,
   "id": "elementary-charm",
   "metadata": {},
   "outputs": [
    {
     "data": {
      "text/plain": [
       "array([[<AxesSubplot:title={'center':'order_hour'}>,\n",
       "        <AxesSubplot:title={'center':'is_failed'}>],\n",
       "       [<AxesSubplot:title={'center':'city_id'}>,\n",
       "        <AxesSubplot:title={'center':'payment_id'}>],\n",
       "       [<AxesSubplot:title={'center':'platform_id'}>,\n",
       "        <AxesSubplot:title={'center':'customer_order_rank'}>]],\n",
       "      dtype=object)"
      ]
     },
     "execution_count": 27,
     "metadata": {},
     "output_type": "execute_result"
    },
    {
     "data": {
      "image/png": "[encoded data removed]",
      "text/plain": [
       "<Figure size 432x288 with 6 Axes>"
      ]
     },
     "metadata": {
      "needs_background": "light"
     },
     "output_type": "display_data"
    }
   ],
   "source": [
    "orders_df.hist(column=['order_hour','is_failed','city_id','payment_id','platform_id','customer_order_rank'])"
   ]
  },
  {
   "cell_type": "markdown",
   "id": "laughing-nepal",
   "metadata": {},
   "source": [
    "Take aways\n",
    "1. is_failed is heavily biased to 0\n",
    "2. There is on dominant platfrom_ids"
   ]
  },
  {
   "cell_type": "code",
   "execution_count": 9,
   "id": "current-israel",
   "metadata": {},
   "outputs": [],
   "source": [
    "# verifying visuals numerically"
   ]
  },
  {
   "cell_type": "code",
   "execution_count": 10,
   "id": "insured-georgia",
   "metadata": {},
   "outputs": [
    {
     "name": "stderr",
     "output_type": "stream",
     "text": [
      "INFO:Main_Churn_Perdictors:order_df.is_failed normalized counts = \n",
      "0    0.968514\n",
      "1    0.031486\n",
      "Name: is_failed, dtype: float64\n",
      "INFO:Main_Churn_Perdictors:order_df.is_failed normalized counts = \n",
      "29463    0.307047\n",
      "30231    0.275523\n",
      "29815    0.202100\n",
      "30359    0.131773\n",
      "30391    0.031063\n",
      "29751    0.024563\n",
      "29495    0.014176\n",
      "30423    0.008669\n",
      "30199    0.002643\n",
      "525      0.001391\n",
      "30135    0.000753\n",
      "22263    0.000295\n",
      "22167    0.000004\n",
      "22295    0.000001\n",
      "Name: platform_id, dtype: float64\n"
     ]
    }
   ],
   "source": [
    "logger.info(f\"\"\"order_df.is_failed normalized counts = \\n{orders_df['is_failed'].value_counts(normalize = True)}\"\"\")\n",
    "logger.info(f\"\"\"order_df.is_failed normalized counts = \\n{orders_df['platform_id'].value_counts(normalize = True)}\"\"\")"
   ]
  },
  {
   "cell_type": "code",
   "execution_count": 46,
   "id": "public-addition",
   "metadata": {
    "scrolled": false
   },
   "outputs": [
    {
     "data": {
      "image/png": "[encoded data removed]",
      "text/plain": [
       "<Figure size 432x288 with 1 Axes>"
      ]
     },
     "metadata": {
      "needs_background": "light"
     },
     "output_type": "display_data"
    },
    {
     "data": {
      "image/png": "[encoded data removed]",
      "text/plain": [
       "<Figure size 432x288 with 1 Axes>"
      ]
     },
     "metadata": {
      "needs_background": "light"
     },
     "output_type": "display_data"
    },
    {
     "data": {
      "image/png": "[encoded data removed]",
      "text/plain": [
       "<Figure size 432x288 with 1 Axes>"
      ]
     },
     "metadata": {
      "needs_background": "light"
     },
     "output_type": "display_data"
    }
   ],
   "source": [
    "# KDE to plot continous variables\n",
    "# function to plot given columns\n",
    "# focus only on continous variables, as discreate have been analyzed via hist function\n",
    "\n",
    "def kde_batch_numeric(df,columns,q=1):\n",
    "    \"\"\"\n",
    "    df: dataframe to plot \n",
    "    columns: specific columns\n",
    "    q: filtering thershold based on quantiles\n",
    "    \"\"\"\n",
    "    for col in columns:\n",
    "        if isinstance(df[col][0],(float,int)):\n",
    "            val_q = np.quantile(a=df[col],q=q)\n",
    "            filtered_data = df[col][df[col]<=val_q]\n",
    "            kdeplot(filtered_data).set_title(col)\n",
    "            plt.show()\n",
    "        else:\n",
    "            raise ValueError(f'Column {col} is not float or int')\n",
    "            \n",
    "kde_batch_numeric(df=orders_df,columns=['voucher_amount','delivery_fee','amount_paid'],q=0.95)"
   ]
  },
  {
   "cell_type": "markdown",
   "id": "exact-forest",
   "metadata": {},
   "source": [
    "Takeaway\n",
    "1. voucher amount is like an impluse signal, most probabably not very useful in prediction\n"
   ]
  }
 ],
 "metadata": {
  "kernelspec": {
   "display_name": "Python 3",
   "language": "python",
   "name": "python3"
  },
  "language_info": {
   "codemirror_mode": {
    "name": "ipython",
    "version": 3
   },
   "file_extension": ".py",
   "mimetype": "text/x-python",
   "name": "python",
   "nbconvert_exporter": "python",
   "pygments_lexer": "ipython3",
   "version": "3.7.0"
  }
 },
 "nbformat": 4,
 "nbformat_minor": 5
}
